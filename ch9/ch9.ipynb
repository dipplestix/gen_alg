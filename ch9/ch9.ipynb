{
 "cells": [
  {
   "cell_type": "code",
   "execution_count": 1,
   "metadata": {},
   "outputs": [],
   "source": [
    "#Knapsack Problem"
   ]
  },
  {
   "cell_type": "code",
   "execution_count": 2,
   "metadata": {},
   "outputs": [],
   "source": [
    "import genetic\n",
    "import datetime\n",
    "import numpy as np\n",
    "import copy\n",
    "from functools import reduce\n",
    "import random\n",
    "import time\n",
    "from math import sqrt, exp"
   ]
  },
  {
   "cell_type": "code",
   "execution_count": 3,
   "metadata": {},
   "outputs": [],
   "source": [
    "class GenFuncs:\n",
    "    def __init__(self, genes, individual, initialize, fitness, mutate, sample, vis=None):\n",
    "        self._genes = genes\n",
    "        self._individual = individual\n",
    "        self._initialize = initialize\n",
    "        self._fitness = fitness\n",
    "        self._mutate = mutate\n",
    "        self._sample = sample\n",
    "        self._vis = vis\n",
    "        \n",
    "    def initialize(self, lambda_):\n",
    "        return self._initialize(lambda_, self._genes, self._individual, self._fitness)\n",
    "    \n",
    "    def mutate(self, ind, gen):\n",
    "        return self._mutate(ind, gen, self._fitness, self._individual)\n",
    "    \n",
    "    def sample(self, population, mu, gen):\n",
    "        return self._sample(population, mu, gen, self._fitness)\n",
    "    \n",
    "    def visualize(self, ind, start_time):\n",
    "        return self._vis(ind, start_time)\n",
    "            \n"
   ]
  },
  {
   "cell_type": "code",
   "execution_count": 4,
   "metadata": {},
   "outputs": [],
   "source": [
    "#Define the genes\n",
    "\n",
    "class Resource:\n",
    "    def __init__(self, name, value, weight, volume):\n",
    "        self.name = name\n",
    "        self.value = value\n",
    "        self.weight = weight\n",
    "        self.volume = volume\n",
    "\n",
    "genes = {Resource('Flour', 1680, .265, .41):0,\n",
    "         Resource('Butter', 1440, .5, .13):0,\n",
    "         Resource('Sugar', 1840, .441, .29):0}\n",
    "\n",
    "global max_weight, max_volume\n",
    "max_weight = 10\n",
    "max_volume = 4\n",
    "\n"
   ]
  },
  {
   "cell_type": "code",
   "execution_count": 5,
   "metadata": {},
   "outputs": [],
   "source": [
    "#Define the individual\n",
    "        \n",
    "class Knapsack(genetic.Individual):    \n",
    "    def __init__(self, genome, fitness, age=0):\n",
    "        self.genome = genome\n",
    "        self.fitness = fitness\n",
    "        self.age = 0\n",
    "        self.available_weight = max_weight - fitness.total_weight\n",
    "        self.available_volume = max_volume - fitness.total_volume"
   ]
  },
  {
   "cell_type": "code",
   "execution_count": 6,
   "metadata": {},
   "outputs": [],
   "source": [
    "#Define the initialization\n",
    "\n",
    "def initialize(lambda_, genes, individual, fitness):\n",
    "    init_pop = []\n",
    "    for n in range(lambda_):\n",
    "        cand = copy.copy(genes)\n",
    "        fit = fitness(genes)\n",
    "        while True:\n",
    "            new_genes = copy.copy(cand)\n",
    "            new_genes[random.choice(list(new_genes.keys()))] += 1\n",
    "            new_fit = fitness(new_genes)\n",
    "            if new_fit.total_weight > max_weight or new_fit.total_volume > max_volume:\n",
    "                break\n",
    "            else:\n",
    "                cand = new_genes\n",
    "                fit = new_fit\n",
    "        init_pop.append(individual(cand, fit))\n",
    "    return init_pop"
   ]
  },
  {
   "cell_type": "code",
   "execution_count": 7,
   "metadata": {},
   "outputs": [],
   "source": [
    "#Define the fitness\n",
    "\n",
    "class Fitness:\n",
    "    def __init__(self, genes):\n",
    "        self.total_weight = sum([x.weight*genes[x] for x in list(genes.keys())])\n",
    "        self.total_volume = sum([x.volume*genes[x] for x in list(genes.keys())])\n",
    "        self.total_value = sum([x.value*genes[x] for x in list(genes.keys())])\n",
    "        \n",
    "    def __ne__(self, other):\n",
    "        if self.total_value == other.total_value and \\\n",
    "        self.total_weight == other.total_weight and \\\n",
    "        self.total_volume == other.total_volume:\n",
    "            return True\n",
    "        else:\n",
    "            return False\n",
    "                       \n",
    "    def __gt__(self, other):\n",
    "        if self.total_value != other.total_value:\n",
    "            return self.total_value > other.total_value\n",
    "        elif self.total_weight != other.total_weight:\n",
    "            return self.total_weight < other.total_weight\n",
    "        elif self.total_volume != other.total_volume:\n",
    "            return self.total_volume < other.total_volume\n",
    "        else:\n",
    "            return False\n",
    "    \n",
    "    def __lt__(self, other):\n",
    "        if other == np.inf:\n",
    "            return True\n",
    "\n",
    "\n",
    "def get_fitness(genes):\n",
    "    return Fitness(genes)"
   ]
  },
  {
   "cell_type": "code",
   "execution_count": 8,
   "metadata": {},
   "outputs": [],
   "source": [
    "#define mutation\n",
    "\n",
    "def add_item(genes):\n",
    "    new_genes = copy.copy(genes)\n",
    "    target = random.choice(list(new_genes.keys()))\n",
    "    new_genes[target] += 1\n",
    "    return new_genes\n",
    "\n",
    "def del_item(genes):\n",
    "    new_genes = copy.copy(genes)\n",
    "    target = random.choice(list(new_genes.keys()))\n",
    "    while new_genes[target] == 0:\n",
    "        target = random.choice(list(new_genes.keys()))\n",
    "    new_genes[target] -= 1\n",
    "    return new_genes\n",
    "\n",
    "def mutate(ind, gen, fitness, ind_class):\n",
    "    genome = add_item(ind.genome)\n",
    "    fit = fitness(genome)\n",
    "    while fit.total_weight > max_weight or fit.total_volume > max_volume:\n",
    "        genome = del_item(genome)\n",
    "        fit = fitness(genome)\n",
    "    return ind_class(genome, fit)"
   ]
  },
  {
   "cell_type": "code",
   "execution_count": 9,
   "metadata": {},
   "outputs": [],
   "source": [
    "#Define sampling\n",
    "\n",
    "def truncation_selection(population, n, gen, fitness, anneal=False):\n",
    "    population.sort(key=lambda x: x.fitness, reverse=True)\n",
    "    if anneal is True:\n",
    "        individual = population[n-1]\n",
    "        test = population[n]\n",
    "        if exp(-(individual-population[n])/(1/log(gen))) > random.random():\n",
    "            population[n-1] = test\n",
    "            population[n] = individual\n",
    "    return population[:n]"
   ]
  },
  {
   "cell_type": "code",
   "execution_count": 10,
   "metadata": {},
   "outputs": [],
   "source": [
    "#Define display\n",
    "\n",
    "def display(ind, start_time):\n",
    "    print(time.time()-start_time)\n",
    "    dic = {x.name:ind.genome[x] for x in list(ind.genome.keys())}\n",
    "    print(f'The individual\\'s genome: \\n {dic} \\n and fitness: {ind.fitness.total_value}')"
   ]
  },
  {
   "cell_type": "code",
   "execution_count": 11,
   "metadata": {},
   "outputs": [],
   "source": [
    "knapsack = GenFuncs(genes, Knapsack, initialize, get_fitness,\n",
    "            mutate, truncation_selection, display)"
   ]
  },
  {
   "cell_type": "code",
   "execution_count": 14,
   "metadata": {},
   "outputs": [],
   "source": [
    "knap_es = genetic.ES(knapsack, 1, 1, timer=5)  "
   ]
  },
  {
   "cell_type": "code",
   "execution_count": 16,
   "metadata": {},
   "outputs": [
    {
     "name": "stdout",
     "output_type": "stream",
     "text": [
      "0.0001728534698486328\n",
      "The individual's genome: \n",
      " {'Flour': 5, 'Butter': 5, 'Sugar': 4} \n",
      " and fitness: 22960\n",
      "0.00028824806213378906\n",
      "The individual's genome: \n",
      " {'Flour': 5, 'Butter': 6, 'Sugar': 4} \n",
      " and fitness: 24400\n",
      "0.0015549659729003906\n",
      "The individual's genome: \n",
      " {'Flour': 3, 'Butter': 6, 'Sugar': 6} \n",
      " and fitness: 24720\n",
      "0.0016410350799560547\n",
      "The individual's genome: \n",
      " {'Flour': 3, 'Butter': 7, 'Sugar': 6} \n",
      " and fitness: 26160\n",
      "0.0016942024230957031\n",
      "The individual's genome: \n",
      " {'Flour': 2, 'Butter': 7, 'Sugar': 7} \n",
      " and fitness: 26320\n",
      "0.001878976821899414\n",
      "The individual's genome: \n",
      " {'Flour': 2, 'Butter': 8, 'Sugar': 7} \n",
      " and fitness: 27760\n",
      "0.0021657943725585938\n",
      "The individual's genome: \n",
      " {'Flour': 4, 'Butter': 11, 'Sugar': 3} \n",
      " and fitness: 28080\n",
      "0.006744861602783203\n",
      "The individual's genome: \n",
      " {'Flour': 0, 'Butter': 6, 'Sugar': 11} \n",
      " and fitness: 28880\n",
      "0.0076410770416259766\n",
      "The individual's genome: \n",
      " {'Flour': 2, 'Butter': 11, 'Sugar': 6} \n",
      " and fitness: 30240\n",
      "0.0077168941497802734\n",
      "The individual's genome: \n",
      " {'Flour': 1, 'Butter': 13, 'Sugar': 6} \n",
      " and fitness: 31440\n",
      "0.0077779293060302734\n",
      "The individual's genome: \n",
      " {'Flour': 1, 'Butter': 14, 'Sugar': 6} \n",
      " and fitness: 32880\n"
     ]
    }
   ],
   "source": [
    "a = knap_es.solve()"
   ]
  },
  {
   "cell_type": "code",
   "execution_count": null,
   "metadata": {},
   "outputs": [],
   "source": []
  }
 ],
 "metadata": {
  "kernelspec": {
   "display_name": "Python 3",
   "language": "python",
   "name": "python3"
  },
  "language_info": {
   "codemirror_mode": {
    "name": "ipython",
    "version": 3
   },
   "file_extension": ".py",
   "mimetype": "text/x-python",
   "name": "python",
   "nbconvert_exporter": "python",
   "pygments_lexer": "ipython3",
   "version": "3.7.3"
  }
 },
 "nbformat": 4,
 "nbformat_minor": 2
}
