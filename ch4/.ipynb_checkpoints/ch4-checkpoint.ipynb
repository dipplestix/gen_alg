{
 "cells": [
  {
   "cell_type": "code",
   "execution_count": 1,
   "metadata": {},
   "outputs": [],
   "source": [
    "#Solve the Queens Puzzle"
   ]
  },
  {
   "cell_type": "code",
   "execution_count": 2,
   "metadata": {},
   "outputs": [],
   "source": [
    "import genetic\n",
    "import unittest\n",
    "import datetime\n",
    "import numpy as np"
   ]
  },
  {
   "cell_type": "code",
   "execution_count": 3,
   "metadata": {},
   "outputs": [],
   "source": [
    "length = 8\n",
    "gene_set = [x for x in range(length)]\n",
    "\n",
    "def get_fitness(genes):\n",
    "    rows = set()\n",
    "    cols = set()\n",
    "    rt_diag = set()\n",
    "    lt_diag = set()\n",
    "    for i in range(0, len(genes), 2):\n",
    "        row = genes[i]\n",
    "        col = genes[i+1]\n",
    "        rows.add(row)\n",
    "        cols.add(col)\n",
    "        lt_diag.add(row+col)\n",
    "        rt_diag.add(col-row)\n",
    "    return Fitness(len(rows)+len(cols)+len(lt_diag)+len(rt_diag))     \n",
    "    \n",
    "class Fitness:\n",
    "    def __init__(self, total):\n",
    "        self.total = total\n",
    "    def __ne__(self, other):\n",
    "        return self.total != other.total\n",
    "    def __gt__(self, other):\n",
    "        return self.total >= other.total\n",
    "        \n",
    "class Board:    \n",
    "    def __init__(self, genes, size):\n",
    "        board = [['.'] * size for _ in range(size)] \n",
    "        for index in range(0, len(genes), 2):\n",
    "            row = genes[index]\n",
    "            column = genes[index + 1] \n",
    "            board[row][column] = 'Q'\n",
    "        self._board = board\n",
    "        \n",
    "    def print(self):\n",
    "        for i in range(0, len(self._board)):\n",
    "            print(' '.join(self._board[i]))\n",
    "\n",
    "def display(chrom, start_time):\n",
    "    size = len(chrom.genes)//2\n",
    "    timediff = datetime.datetime.now() - start_time\n",
    "    board = Board(chrom.genes, size)\n",
    "    board.print()\n",
    "    print(' '.join(map(str, chrom.genes)))\n",
    "    print(chrom.fitness.total)\n",
    "    print(timediff)\n",
    "    \n"
   ]
  },
  {
   "cell_type": "code",
   "execution_count": 4,
   "metadata": {},
   "outputs": [
    {
     "name": "stdout",
     "output_type": "stream",
     "text": [
      ". . . . Q . . .\n",
      ". . . . . . Q .\n",
      ". Q . . . . . .\n",
      ". . . . . Q . .\n",
      ". . Q . . . . .\n",
      "Q . . . . . . .\n",
      ". . . . . . . Q\n",
      ". . . Q . . . .\n"
     ]
    }
   ],
   "source": [
    "queen_problem = genetic.Genetic(gene_set, get_fitness, display, Fitness(length*4), length*2)\n",
    "best = queen_problem.solve(display_on=False)\n",
    "Board(best.genes, len(best.genes)//2).print()"
   ]
  },
  {
   "cell_type": "code",
   "execution_count": 5,
   "metadata": {},
   "outputs": [
    {
     "name": "stdout",
     "output_type": "stream",
     "text": [
      "0.11360476999999998\n",
      "0.08352606153098026\n"
     ]
    }
   ],
   "source": [
    "#benchmark\n",
    "length = 20\n",
    "gene_set = [x for x in range(length)]\n",
    "times = []\n",
    "for x in range(100):\n",
    "    start = datetime.datetime.now()\n",
    "    queen_problem = genetic.Genetic(gene_set, get_fitness, display, Fitness(length*4), length*2)\n",
    "    best = queen_problem.solve(display_on=False)\n",
    "    times.append((datetime.datetime.now()-start).total_seconds())\n",
    "print(np.mean(times))\n",
    "print(np.std(times))"
   ]
  },
  {
   "cell_type": "code",
   "execution_count": null,
   "metadata": {},
   "outputs": [],
   "source": []
  }
 ],
 "metadata": {
  "kernelspec": {
   "display_name": "Python 3",
   "language": "python",
   "name": "python3"
  },
  "language_info": {
   "codemirror_mode": {
    "name": "ipython",
    "version": 3
   },
   "file_extension": ".py",
   "mimetype": "text/x-python",
   "name": "python",
   "nbconvert_exporter": "python",
   "pygments_lexer": "ipython3",
   "version": "3.7.3"
  }
 },
 "nbformat": 4,
 "nbformat_minor": 2
}
