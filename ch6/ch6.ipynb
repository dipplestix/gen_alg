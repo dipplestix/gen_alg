{
 "cells": [
  {
   "cell_type": "code",
   "execution_count": 1,
   "metadata": {},
   "outputs": [],
   "source": [
    "#Solve the card problem"
   ]
  },
  {
   "cell_type": "code",
   "execution_count": 2,
   "metadata": {},
   "outputs": [],
   "source": [
    "import genetic\n",
    "import datetime\n",
    "import numpy as np\n",
    "import copy\n",
    "from functools import reduce\n",
    "import random"
   ]
  },
  {
   "cell_type": "code",
   "execution_count": 3,
   "metadata": {},
   "outputs": [],
   "source": [
    "gene_set = [x+1 for x in range(10)]\n",
    "\n",
    "def get_fitness(genes):\n",
    "    g1sum = sum(genes[:5])\n",
    "    g2prod = reduce((lambda x, y: x * y), genes[5:])\n",
    "    dups = len(genes)-len(set(genes))\n",
    "    return Fitness(g1sum, g2prod, dups)     \n",
    "    \n",
    "class Fitness:\n",
    "    def __init__(self, sums, prod, dupes):\n",
    "        self.sums = sums\n",
    "        self.prod = prod\n",
    "        self.dupes = dupes\n",
    "        self.total = abs(sums-36)+abs(prod-360)\n",
    "        \n",
    "    def __ne__(self, other):\n",
    "        if self.dupes == other.dupes:\n",
    "            return self.total != other.total\n",
    "        else:\n",
    "            return True\n",
    "        \n",
    "    def __gt__(self, other):\n",
    "        if self.dupes == other.dupes:\n",
    "            return self.total < other.total\n",
    "        else:\n",
    "            return self.dupes < other.dupes\n",
    "        \n",
    "\n",
    "def display(chrom, start_time):\n",
    "    sum_gen = chrom.genes[:5]\n",
    "    prod_gen = chrom.genes[5:]\n",
    "    sum_gen.sort()\n",
    "    prod_gen.sort()\n",
    "    print(' '.join(map(str, sum_gen)))\n",
    "    print(' '.join(map(str, prod_gen)))\n",
    "    print(f'sum:{chrom.fitness.sums}, prod:{chrom.fitness.prod}')\n",
    "    print(chrom.fitness.total)\n",
    "    print((datetime.datetime.now()-start_time).total_seconds())\n",
    "\n",
    "def mutate(parent, gene_set):\n",
    "    parent_genes = copy.copy(parent.genes)\n",
    "    if len(parent_genes) != len(set(parent_genes)):\n",
    "        index = random.randrange(0, len(parent_genes))\n",
    "        new_gene = random.choice(gene_set)\n",
    "        while new_gene == parent_genes[index]:\n",
    "            new_gene = random.choice(gene_set)\n",
    "        parent_genes[index] = new_gene\n",
    "    else:\n",
    "        max_i = len(parent.genes)\n",
    "        index_changes = random.sample(list(range(0, len(parent.genes))), random.randrange(2, max_i)//2)\n",
    "        for i in range(len(index_changes)//2):\n",
    "            i_1 = index_changes[i]\n",
    "            i_2 = index_changes[-(i+1)]\n",
    "            swap = parent_genes[i_1]\n",
    "            parent_genes[i_1] = parent_genes[i_2]\n",
    "            parent_genes[i_2] = swap\n",
    "    return parent_genes\n",
    "\n",
    "\n",
    "\n"
   ]
  },
  {
   "cell_type": "code",
   "execution_count": 4,
   "metadata": {
    "scrolled": false
   },
   "outputs": [
    {
     "name": "stdout",
     "output_type": "stream",
     "text": [
      "5 8 8 8 10\n",
      "1 2 3 7 8\n",
      "sum:39, prod:336\n",
      "27\n",
      "0.000194\n",
      "4 5 8 8 10\n",
      "1 2 3 7 8\n",
      "sum:35, prod:336\n",
      "25\n",
      "0.00055\n",
      "4 5 8 8 10\n",
      "1 2 3 6 7\n",
      "sum:35, prod:252\n",
      "109\n",
      "0.00085\n",
      "4 5 8 8 10\n",
      "1 2 3 6 9\n",
      "sum:35, prod:324\n",
      "37\n",
      "0.001067\n",
      "4 5 8 9 10\n",
      "1 2 3 6 9\n",
      "sum:36, prod:324\n",
      "36\n",
      "0.001474\n",
      "4 5 7 8 10\n",
      "1 2 3 6 9\n",
      "sum:34, prod:324\n",
      "38\n",
      "0.001825\n",
      "4 5 6 8 10\n",
      "1 2 3 7 9\n",
      "sum:33, prod:378\n",
      "21\n",
      "0.002506\n",
      "4 5 7 8 9\n",
      "1 2 3 6 10\n",
      "sum:33, prod:360\n",
      "3\n",
      "0.00523\n",
      "2 7 8 9 10\n",
      "1 3 4 5 6\n",
      "sum:36, prod:360\n",
      "0\n",
      "0.030643\n"
     ]
    }
   ],
   "source": [
    "card_problem = genetic.Genetic(gene_set, mutate, get_fitness, display, Fitness(36, 360, 0), 10)\n",
    "best = card_problem.solve(display_on=True)"
   ]
  },
  {
   "cell_type": "code",
   "execution_count": 5,
   "metadata": {},
   "outputs": [
    {
     "name": "stdout",
     "output_type": "stream",
     "text": [
      "0.011524307999999999\n",
      "0.01238826700241547\n"
     ]
    }
   ],
   "source": [
    "#benchmark\n",
    "times = []\n",
    "for x in range(1000):\n",
    "    start = datetime.datetime.now()\n",
    "    card_problem = genetic.Genetic(gene_set, mutate, get_fitness, display, Fitness(36, 360, 0), 10)\n",
    "    best = card_problem.solve(display_on=False)\n",
    "    times.append((datetime.datetime.now()-start).total_seconds())\n",
    "print(np.mean(times))\n",
    "print(np.std(times))"
   ]
  },
  {
   "cell_type": "code",
   "execution_count": null,
   "metadata": {},
   "outputs": [],
   "source": []
  }
 ],
 "metadata": {
  "kernelspec": {
   "display_name": "Python 3",
   "language": "python",
   "name": "python3"
  },
  "language_info": {
   "codemirror_mode": {
    "name": "ipython",
    "version": 3
   },
   "file_extension": ".py",
   "mimetype": "text/x-python",
   "name": "python",
   "nbconvert_exporter": "python",
   "pygments_lexer": "ipython3",
   "version": "3.7.3"
  }
 },
 "nbformat": 4,
 "nbformat_minor": 2
}
