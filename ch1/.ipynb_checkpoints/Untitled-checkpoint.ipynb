{
 "cells": [
  {
   "cell_type": "code",
   "execution_count": 180,
   "metadata": {},
   "outputs": [],
   "source": [
    "import string\n",
    "import random\n",
    "import datetime\n",
    "gene_set = list(string.ascii_letters + ' !.\\'')"
   ]
  },
  {
   "cell_type": "code",
   "execution_count": 181,
   "metadata": {},
   "outputs": [],
   "source": [
    "target = 'It\\'s the end of the world as we know it!'"
   ]
  },
  {
   "cell_type": "code",
   "execution_count": 182,
   "metadata": {},
   "outputs": [],
   "source": [
    "def generate_parent(length):\n",
    "    genes = []\n",
    "    while len(genes) < length:\n",
    "        sampleSize = min(length - len(genes), len(gene_set))\n",
    "        genes.extend(random.sample(gene_set, sampleSize))\n",
    "    return ''.join(genes)\n",
    "\n",
    "def get_fitness(guess):\n",
    "    return sum([1 for expected, actual in zip(target, guess) if expected == actual])\n",
    "\n",
    "def mutate(parent):\n",
    "    index = random.randrange(0, len(parent)) \n",
    "    childGenes = list(parent)\n",
    "    newGene, alternate = random.sample(gene_set, 2) \n",
    "    childGenes[index] = alternate if newGene == childGenes[index] else newGene\n",
    "    return ''.join(childGenes)\n",
    "\n",
    "def display(guess):\n",
    "    timeDiff = datetime.datetime.now() - startTime \n",
    "    fitness = get_fitness(guess) \n",
    "    print(f'{guess}\\t{fitness}\\t{timeDiff}')"
   ]
  },
  {
   "cell_type": "code",
   "execution_count": 183,
   "metadata": {},
   "outputs": [
    {
     "name": "stdout",
     "output_type": "stream",
     "text": [
      "Zwm U!ucHdxorVFjnlqXQvEfbMpzaOS'K.siIBtT\t1\t0:00:00.000224\n",
      "Zwm U!ucHdxorVFjnlqXQvEfdMpzaOS'K.siIBtT\t2\t0:00:00.001009\n",
      "Zwm U!ucHdxorVFjnhqXQvEfdMpzaOS'K.siIBtT\t3\t0:00:00.001719\n",
      "Zwm U!ucHdxorVFjnhqXQvEfdMpzaOS K.siIBtT\t4\t0:00:00.002674\n",
      "Zwm U!ucHdxorVFjnhqXQvEfdMpzaOS K.si BtT\t5\t0:00:00.004266\n",
      "Zwm U!ucHdxorVFjnheXQvEfdMpzaOS K.si BtT\t6\t0:00:00.006698\n",
      "Zwm U!ucHdxo VFjnheXQvEfdMpzaOS K.si BtT\t7\t0:00:00.007826\n",
      "Zwm U!ucHdxo VFjnheXQvEfdMpzaOS K.sw BtT\t8\t0:00:00.008924\n",
      "Zwm U!ucHdxo VFjnheXwvEfdMpzaOS K.sw BtT\t9\t0:00:00.009133\n",
      "Zwm  !ucHdxo VFjnheXwvEfdMpzaOS K.sw BtT\t10\t0:00:00.010798\n",
      "Zwm  !ucHdxo VFjnheXwvrfdMpzaOS K.sw BtT\t11\t0:00:00.011694\n",
      "Zwm  !ucHdxo VFjnheXwvrfdMpzaOS k.sw BtT\t12\t0:00:00.013183\n",
      "Zwm  !ucHdxo VF nheXwvrfdMpzaOS k.sw BtT\t13\t0:00:00.015615\n",
      "Zw'  !ucHdxo VF nheXwvrfdMpzaOS k.sw BtT\t14\t0:00:00.016096\n",
      "Zw'  !ucHdxo VF nheXwvrfdMpzaOe k.sw BtT\t15\t0:00:00.016748\n",
      "Zw'  !ucHdxo VF nheXwvrfdMpzawe k.sw BtT\t16\t0:00:00.018295\n",
      "Zw'  !ucHexo VF nheXwvrfdMpzawe k.sw BtT\t17\t0:00:00.019879\n",
      "Zw'  !ucHexo VF nheXwvrfdMpzawe k.sw Bt!\t18\t0:00:00.021523\n",
      "Zw'  !ucHexo VF nheXwvrfdMpz we k.sw Bt!\t19\t0:00:00.022875\n",
      "Zw'  !ucHexo VF nheXwvrfdMaz we k.sw Bt!\t20\t0:00:00.024695\n",
      "Zw'  !ueHexo VF nheXwvrfdMaz we k.sw Bt!\t21\t0:00:00.026013\n",
      "Zw'  tueHexo VF nheXwvrfdMaz we k.sw Bt!\t22\t0:00:00.026979\n",
      "Zw'  tueHexo oF nheXwvrfdMaz we k.sw Bt!\t23\t0:00:00.028321\n",
      "Zw'  tueHeno oF nheXwvrfdMaz we k.sw Bt!\t24\t0:00:00.031163\n",
      "Zw'  tueHeno oF nhe wvrfdMaz we k.sw Bt!\t25\t0:00:00.033292\n",
      "Zw'  tueHeno oF nhe wvrfdMaz we knsw Bt!\t26\t0:00:00.034338\n",
      "Zw'  tueHeno oF nhe wvrfd az we knsw Bt!\t27\t0:00:00.035038\n",
      "Zw'  tueHeno oF nhe wvrld az we knsw Bt!\t28\t0:00:00.036017\n",
      "Zt'  tueHeno oF nhe wvrld az we knsw Bt!\t29\t0:00:00.038993\n",
      "It'  tueHeno oF nhe wvrld az we knsw Bt!\t30\t0:00:00.040792\n",
      "It'  tueHend oF nhe wvrld az we knsw Bt!\t31\t0:00:00.043374\n",
      "It'  tueHend of nhe wvrld az we knsw Bt!\t32\t0:00:00.047089\n",
      "It'  tueHend of nhe world az we knsw Bt!\t33\t0:00:00.052409\n",
      "It'  tueHend of nhe world az we knsw it!\t34\t0:00:00.054460\n",
      "It's tueHend of nhe world az we knsw it!\t35\t0:00:00.056803\n",
      "It's theHend of nhe world az we knsw it!\t36\t0:00:00.062883\n",
      "It's the end of nhe world az we knsw it!\t37\t0:00:00.065993\n",
      "It's the end of nhe world az we know it!\t38\t0:00:00.071189\n",
      "It's the end of the world az we know it!\t39\t0:00:00.081571\n",
      "It's the end of the world as we know it!\t40\t0:00:00.107643\n"
     ]
    }
   ],
   "source": [
    "random.seed()\n",
    "startTime = datetime.datetime.now()\n",
    "bestParent = generate_parent(len(target))\n",
    "bestFitness = get_fitness(bestParent)\n",
    "display(bestParent)\n",
    "\n",
    "while True:\n",
    "    child = mutate(bestParent) \n",
    "    childFitness = get_fitness(child) \n",
    "    if bestFitness >= childFitness:\n",
    "        continue\n",
    "    display(child)\n",
    "    if childFitness >= len(bestParent):\n",
    "        break\n",
    "    bestFitness = childFitness\n",
    "    bestParent = child"
   ]
  },
  {
   "cell_type": "code",
   "execution_count": 63,
   "metadata": {},
   "outputs": [
    {
     "ename": "TypeError",
     "evalue": "choice() got an unexpected keyword argument 'size'",
     "output_type": "error",
     "traceback": [
      "\u001b[0;31m---------------------------------------------------------------------------\u001b[0m",
      "\u001b[0;31mTypeError\u001b[0m                                 Traceback (most recent call last)",
      "\u001b[0;32m<ipython-input-63-638545408f24>\u001b[0m in \u001b[0;36m<module>\u001b[0;34m()\u001b[0m\n\u001b[0;32m----> 1\u001b[0;31m \u001b[0mrandom\u001b[0m\u001b[0;34m.\u001b[0m\u001b[0mchoice\u001b[0m\u001b[0;34m(\u001b[0m\u001b[0;34m[\u001b[0m\u001b[0;36m1\u001b[0m\u001b[0;34m,\u001b[0m \u001b[0;36m2\u001b[0m\u001b[0;34m,\u001b[0m \u001b[0;36m3\u001b[0m\u001b[0;34m,\u001b[0m \u001b[0;36m4\u001b[0m\u001b[0;34m]\u001b[0m\u001b[0;34m,\u001b[0m \u001b[0msize\u001b[0m\u001b[0;34m=\u001b[0m\u001b[0;36m10\u001b[0m\u001b[0;34m)\u001b[0m\u001b[0;34m\u001b[0m\u001b[0m\n\u001b[0m",
      "\u001b[0;31mTypeError\u001b[0m: choice() got an unexpected keyword argument 'size'"
     ]
    }
   ],
   "source": [
    "random.choice([1, 2, 3, 4], size=10)"
   ]
  },
  {
   "cell_type": "code",
   "execution_count": 70,
   "metadata": {
    "collapsed": true
   },
   "outputs": [],
   "source": [
    "def plus_two(x):\n",
    "    return x+2"
   ]
  },
  {
   "cell_type": "code",
   "execution_count": 97,
   "metadata": {
    "collapsed": true
   },
   "outputs": [],
   "source": [
    "class Test:\n",
    "    def __init__(self, x, func):\n",
    "        self.x = x\n",
    "        self.func = func\n",
    "        \n",
    "    def per_func(self):\n",
    "        return self.func(self.x)"
   ]
  },
  {
   "cell_type": "code",
   "execution_count": 98,
   "metadata": {},
   "outputs": [],
   "source": [
    "a = Test(2, plus_two)"
   ]
  },
  {
   "cell_type": "code",
   "execution_count": 184,
   "metadata": {},
   "outputs": [],
   "source": [
    "import importlib\n",
    "importlib.reload(genetic)\n",
    "\n",
    "def get_fitness(genes, taget):\n",
    "    return sum([1 for actual, expected in zip(genes, target) if actual==expected])\n",
    "\n",
    "def display(chrom, start_time):\n",
    "    timeDiff = datetime.datetime.now() - start_time \n",
    "    print(f'{\"\".join(chrom.genes)}\\t{chrom.fitness}\\t{timeDiff}')"
   ]
  },
  {
   "cell_type": "code",
   "execution_count": 185,
   "metadata": {},
   "outputs": [
    {
     "name": "stdout",
     "output_type": "stream",
     "text": [
      "NcNZOhKlfzAWKbiy.sTewdwWZEd!JTMhdoWuxTnu\t1\t0:00:00.000068\n",
      "NcNZOhKlfzAW biy.sTewdwWZEd!JTMhdoWuxTnu\t2\t0:00:00.001678\n",
      "NcNZOhKlfzAW biy.sTewdwWZEd!JTMhdoouxTnu\t3\t0:00:00.002422\n",
      "NcNsOhKlfzAW biy.sTewdwWZEd!JTMhdoouxTnu\t4\t0:00:00.002688\n",
      "NcNsOhKlfzAW biy.hTewdwWZEd!JTMhdoouxTnu\t5\t0:00:00.003276\n",
      "NcNsOhKlfzAW biy.hTewdwWZEd!JTMhdnouxTnu\t6\t0:00:00.003636\n",
      "NcNsOhKlfzAW biy.hTewdrWZEd!JTMhdnouxTnu\t7\t0:00:00.004321\n",
      "NcNsOhKlfzAW biythTewdrWZEd!JTMhdnouxTnu\t8\t0:00:00.005985\n",
      "Nc'sOhKlfzAW biythTewdrWZEd!JTMhdnouxTnu\t9\t0:00:00.006299\n",
      "Nc'sOhKlfzAW biythTewdrlZEd!JTMhdnouxTnu\t10\t0:00:00.006845\n",
      "Nc'sOhKlfeAW biythTewdrlZEd!JTMhdnouxTnu\t11\t0:00:00.007037\n",
      "Nc'sOhKlfeAW biythTewdrlZ d!JTMhdnouxTnu\t12\t0:00:00.008222\n",
      "Nc'sOhhlfeAW biythTewdrlZ d!JTMhdnouxTnu\t13\t0:00:00.008492\n",
      "Nt'sOhhlfeAW biythTewdrlZ d!JTMhdnouxTnu\t14\t0:00:00.008955\n",
      "Nt'sOhhlfeAW biythTewdrlZ d!JTMhdnou Tnu\t15\t0:00:00.009467\n",
      "Nt'sOhhlfeAW biythTewdrld d!JTMhdnou Tnu\t16\t0:00:00.009753\n",
      "Nt'sOhhlfeAd biythTewdrld d!JTMhdnou Tnu\t17\t0:00:00.010014\n",
      "Nt'sOhhlfeAd biythTewdrld d!JTehdnou Tnu\t18\t0:00:00.010428\n",
      "Nt'sOhhlfeAd biythTewdrld d!JTe dnou Tnu\t19\t0:00:00.011098\n",
      "Nt'sOhhlfeAd biythT wdrld d!JTe dnou Tnu\t20\t0:00:00.011882\n",
      "Nt'sOhhefeAd biythT wdrld d!JTe dnou Tnu\t21\t0:00:00.011990\n",
      "Nt'sOhhefeAd biythT wdrld d!Jwe dnou Tnu\t22\t0:00:00.012535\n",
      "Nt's hhefeAd biythT wdrld d!Jwe dnou Tnu\t23\t0:00:00.013685\n",
      "Nt's hhefeAd bfythT wdrld d!Jwe dnou Tnu\t24\t0:00:00.013918\n",
      "Nt's hhefeAd bfythT wdrld dsJwe dnou Tnu\t25\t0:00:00.014226\n",
      "Nt's hhefeAd bfythT world dsJwe dnou Tnu\t26\t0:00:00.014508\n",
      "Nt's hhefeAd bfythT world dsJwe dnou Ttu\t27\t0:00:00.016852\n",
      "Nt's thefeAd bfythT world dsJwe dnou Ttu\t28\t0:00:00.017624\n",
      "Nt's thefeAd bfythe world dsJwe dnou Ttu\t29\t0:00:00.018117\n",
      "Nt's the eAd bfythe world dsJwe dnou Ttu\t30\t0:00:00.019341\n",
      "Nt's the eAd bfythe world ds we dnou Ttu\t31\t0:00:00.020357\n",
      "Nt's the eAd bfythe world ds we knou Ttu\t32\t0:00:00.020792\n",
      "Nt's the eAd bfythe world ds we knou Tt!\t33\t0:00:00.022093\n",
      "Nt's the eAd bfythe world as we knou Tt!\t34\t0:00:00.024900\n",
      "It's the eAd bfythe world as we knou Tt!\t35\t0:00:00.025014\n",
      "It's the eAd bfythe world as we knou it!\t36\t0:00:00.042687\n",
      "It's the eAd ofythe world as we knou it!\t37\t0:00:00.046906\n",
      "It's the eAd of the world as we knou it!\t38\t0:00:00.049616\n",
      "It's the end of the world as we knou it!\t39\t0:00:00.050938\n",
      "It's the end of the world as we know it!\t40\t0:00:00.052617\n"
     ]
    }
   ],
   "source": [
    "string = genetic.Genetic(gene_set, 'It\\'s the end of the world as we know it!', get_fitness, display)\n",
    "best = string.solve()"
   ]
  },
  {
   "cell_type": "code",
   "execution_count": null,
   "metadata": {
    "collapsed": true
   },
   "outputs": [],
   "source": []
  }
 ],
 "metadata": {
  "kernelspec": {
   "display_name": "Python 3",
   "language": "python",
   "name": "python3"
  },
  "language_info": {
   "codemirror_mode": {
    "name": "ipython",
    "version": 3
   },
   "file_extension": ".py",
   "mimetype": "text/x-python",
   "name": "python",
   "nbconvert_exporter": "python",
   "pygments_lexer": "ipython3",
   "version": "3.6.3"
  }
 },
 "nbformat": 4,
 "nbformat_minor": 2
}
