{
 "cells": [
  {
   "cell_type": "code",
   "execution_count": null,
   "metadata": {
    "collapsed": true
   },
   "outputs": [],
   "source": [
    "#The goal of this chapter is to sort a list of numners"
   ]
  },
  {
   "cell_type": "code",
   "execution_count": 12,
   "metadata": {
    "collapsed": true
   },
   "outputs": [],
   "source": [
    "import genetic\n",
    "import datetime\n",
    "import numpy as np"
   ]
  },
  {
   "cell_type": "code",
   "execution_count": 13,
   "metadata": {},
   "outputs": [],
   "source": [
    "gene_set = [x for x in range(100)]\n",
    "\n",
    "def get_fitness(genes):\n",
    "    n_in_order = 1\n",
    "    total_gap = 0\n",
    "    for i in range(len(genes)-1):\n",
    "        if genes[i]<genes[i+1]:\n",
    "            n_in_order += 1\n",
    "        else:\n",
    "            total_gap += genes[i]-genes[i+1]\n",
    "    return Fitness(n_in_order, total_gap)\n",
    "\n",
    "class Fitness:\n",
    "    def __init__(self, n_in_order, total_gap):\n",
    "        self.n_in_order = n_in_order\n",
    "        self.total_gap = total_gap\n",
    "    def __ne__(self, other):\n",
    "        if self.n_in_order == other.n_in_order and self.total_gap == other.total_gap:\n",
    "            return False\n",
    "        else:\n",
    "            return True\n",
    "    def __gt__(self, other):\n",
    "        if self.n_in_order != other.n_in_order:\n",
    "            return self.n_in_order > other.n_in_order\n",
    "        else:\n",
    "            return self.total_gap <= other.total_gap\n",
    "        \n",
    "def display(chrom, start_time):\n",
    "    print(f'{chrom.genes}\\t{chrom.fitness.n_in_order}\\t{chrom.fitness.total_gap}\\t{datetime.datetime.now()-start_time}')"
   ]
  },
  {
   "cell_type": "code",
   "execution_count": 14,
   "metadata": {},
   "outputs": [],
   "source": [
    "sort_numbers = genetic.Genetic(gene_set, get_fitness, display, Fitness(40, 0), 40)\n",
    "best = sort_numbers.solve(display_on=False)"
   ]
  },
  {
   "cell_type": "code",
   "execution_count": 17,
   "metadata": {},
   "outputs": [
    {
     "name": "stdout",
     "output_type": "stream",
     "text": [
      "0.72071981\n",
      "0.345271882159\n"
     ]
    }
   ],
   "source": [
    "times = []\n",
    "for i in range(100):\n",
    "    sort_numbers = genetic.Genetic(gene_set, get_fitness, display, Fitness(40, 0), 40)\n",
    "    best = sort_numbers.solve(display_on=False)\n",
    "    times.append((datetime.datetime.now()-sort_numbers.start_time).total_seconds())\n",
    "print(np.mean(times))\n",
    "print(np.std(times))"
   ]
  },
  {
   "cell_type": "code",
   "execution_count": null,
   "metadata": {
    "collapsed": true
   },
   "outputs": [],
   "source": []
  }
 ],
 "metadata": {
  "kernelspec": {
   "display_name": "Python 3",
   "language": "python",
   "name": "python3"
  },
  "language_info": {
   "codemirror_mode": {
    "name": "ipython",
    "version": 3
   },
   "file_extension": ".py",
   "mimetype": "text/x-python",
   "name": "python",
   "nbconvert_exporter": "python",
   "pygments_lexer": "ipython3",
   "version": "3.6.3"
  }
 },
 "nbformat": 4,
 "nbformat_minor": 2
}
