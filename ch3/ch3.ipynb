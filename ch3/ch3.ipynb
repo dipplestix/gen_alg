{
 "cells": [
  {
   "cell_type": "code",
   "execution_count": 1,
   "metadata": {},
   "outputs": [],
   "source": [
    "#The goal of this chapter is to sort a list of numners"
   ]
  },
  {
   "cell_type": "code",
   "execution_count": 2,
   "metadata": {},
   "outputs": [],
   "source": [
    "import genetic\n",
    "import datetime\n",
    "import numpy as np"
   ]
  },
  {
   "cell_type": "code",
   "execution_count": 3,
   "metadata": {},
   "outputs": [],
   "source": [
    "gene_set = [x for x in range(100)]\n",
    "\n",
    "def get_fitness(genes):\n",
    "    n_in_order = 1\n",
    "    total_gap = 0\n",
    "    for i in range(len(genes)-1):\n",
    "        if genes[i]<genes[i+1]:\n",
    "            n_in_order += 1\n",
    "        else:\n",
    "            total_gap += genes[i]-genes[i+1]\n",
    "    return Fitness(n_in_order, total_gap)\n",
    "\n",
    "class Fitness:\n",
    "    def __init__(self, n_in_order, total_gap):\n",
    "        self.n_in_order = n_in_order\n",
    "        self.total_gap = total_gap\n",
    "    def __ne__(self, other):\n",
    "        if self.n_in_order == other.n_in_order and self.total_gap == other.total_gap:\n",
    "            return False\n",
    "        else:\n",
    "            return True\n",
    "    def __gt__(self, other):\n",
    "        if self.n_in_order != other.n_in_order:\n",
    "            return self.n_in_order > other.n_in_order\n",
    "        else:\n",
    "            return self.total_gap <= other.total_gap\n",
    "        \n",
    "def display(chrom, start_time):\n",
    "    print(f'{chrom.genes}\\t{chrom.fitness.n_in_order}\\t{chrom.fitness.total_gap}\\t{datetime.datetime.now()-start_time}')"
   ]
  },
  {
   "cell_type": "code",
   "execution_count": 4,
   "metadata": {},
   "outputs": [
    {
     "name": "stdout",
     "output_type": "stream",
     "text": [
      "[68, 22, 32, 40, 63, 48, 40, 53, 95, 49]\t6\t115\t0:00:00.000048\n",
      "[68, 22, 32, 40, 63, 48, 40, 53, 73, 49]\t6\t93\t0:00:00.000138\n",
      "[22, 22, 32, 40, 63, 48, 40, 53, 73, 49]\t6\t47\t0:00:00.000180\n",
      "[22, 22, 32, 40, 63, 9, 40, 53, 73, 49]\t7\t78\t0:00:00.000245\n",
      "[22, 22, 32, 40, 7, 9, 40, 53, 73, 49]\t7\t57\t0:00:00.000275\n",
      "[22, 22, 32, 40, 7, 9, 40, 53, 73, 53]\t7\t53\t0:00:00.000308\n",
      "[22, 22, 32, 40, 7, 9, 40, 44, 73, 53]\t7\t53\t0:00:00.000340\n",
      "[22, 22, 32, 40, 7, 9, 40, 47, 73, 53]\t7\t53\t0:00:00.000393\n",
      "[22, 22, 32, 40, 7, 9, 40, 47, 46, 53]\t7\t34\t0:00:00.000418\n",
      "[22, 22, 32, 40, 7, 9, 40, 47, 46, 73]\t7\t34\t0:00:00.000507\n",
      "[22, 22, 32, 40, 7, 9, 40, 47, 53, 73]\t8\t33\t0:00:00.000539\n",
      "[22, 22, 32, 40, 7, 9, 40, 47, 53, 72]\t8\t33\t0:00:00.000685\n",
      "[22, 22, 32, 40, 7, 9, 40, 47, 53, 66]\t8\t33\t0:00:00.000837\n",
      "[22, 22, 33, 40, 7, 9, 40, 47, 53, 66]\t8\t33\t0:00:00.000920\n",
      "[22, 22, 33, 40, 7, 24, 40, 47, 53, 66]\t8\t33\t0:00:00.001018\n",
      "[22, 22, 33, 40, 7, 24, 40, 47, 53, 92]\t8\t33\t0:00:00.001068\n",
      "[22, 22, 27, 40, 7, 24, 40, 47, 53, 92]\t8\t33\t0:00:00.001116\n",
      "[22, 22, 27, 40, 7, 24, 40, 47, 70, 92]\t8\t33\t0:00:00.001150\n",
      "[22, 22, 27, 40, 7, 24, 40, 47, 70, 72]\t8\t33\t0:00:00.001177\n",
      "[22, 22, 27, 40, 7, 24, 40, 61, 70, 72]\t8\t33\t0:00:00.001228\n",
      "[22, 22, 27, 40, 18, 24, 40, 61, 70, 72]\t8\t22\t0:00:00.001273\n",
      "[22, 22, 27, 40, 18, 24, 40, 61, 69, 72]\t8\t22\t0:00:00.001311\n",
      "[22, 22, 27, 40, 18, 24, 40, 61, 69, 79]\t8\t22\t0:00:00.001345\n",
      "[22, 24, 27, 40, 18, 24, 40, 61, 69, 79]\t9\t22\t0:00:00.001663\n",
      "[22, 24, 27, 40, 18, 24, 40, 46, 69, 79]\t9\t22\t0:00:00.001708\n",
      "[22, 24, 27, 40, 18, 24, 40, 46, 57, 79]\t9\t22\t0:00:00.001755\n",
      "[22, 24, 27, 40, 18, 24, 40, 46, 57, 82]\t9\t22\t0:00:00.001789\n",
      "[22, 24, 27, 40, 18, 24, 40, 46, 57, 89]\t9\t22\t0:00:00.001836\n",
      "[22, 24, 27, 40, 18, 24, 41, 46, 57, 89]\t9\t22\t0:00:00.001886\n",
      "[22, 24, 27, 40, 18, 24, 41, 46, 57, 71]\t9\t22\t0:00:00.001984\n",
      "[22, 24, 27, 5, 18, 24, 41, 46, 57, 71]\t9\t22\t0:00:00.002023\n",
      "[22, 24, 27, 5, 18, 24, 41, 47, 57, 71]\t9\t22\t0:00:00.002061\n",
      "[1, 24, 27, 5, 18, 24, 41, 47, 57, 71]\t9\t22\t0:00:00.002239\n",
      "[1, 24, 27, 5, 6, 24, 41, 47, 57, 71]\t9\t22\t0:00:00.002294\n",
      "[1, 24, 27, 5, 18, 24, 41, 47, 57, 71]\t9\t22\t0:00:00.002321\n",
      "[1, 24, 27, 5, 18, 24, 43, 47, 57, 71]\t9\t22\t0:00:00.002371\n",
      "[1, 24, 27, 34, 18, 24, 43, 47, 57, 71]\t9\t16\t0:00:00.002404\n",
      "[0, 24, 27, 34, 18, 24, 43, 47, 57, 71]\t9\t16\t0:00:00.002491\n",
      "[0, 24, 27, 34, 40, 24, 43, 47, 57, 71]\t9\t16\t0:00:00.002555\n",
      "[0, 24, 27, 34, 40, 49, 43, 47, 57, 71]\t9\t6\t0:00:00.002597\n",
      "[0, 14, 27, 34, 40, 49, 43, 47, 57, 71]\t9\t6\t0:00:00.002834\n",
      "[0, 14, 20, 34, 40, 49, 43, 47, 57, 71]\t9\t6\t0:00:00.002886\n",
      "[8, 14, 20, 34, 40, 49, 43, 47, 57, 71]\t9\t6\t0:00:00.003006\n",
      "[8, 14, 20, 33, 40, 49, 43, 47, 57, 71]\t9\t6\t0:00:00.003061\n",
      "[8, 14, 20, 21, 40, 49, 43, 47, 57, 71]\t9\t6\t0:00:00.003088\n",
      "[8, 14, 20, 21, 40, 49, 43, 45, 57, 71]\t9\t6\t0:00:00.003133\n",
      "[8, 14, 15, 21, 40, 49, 43, 45, 57, 71]\t9\t6\t0:00:00.003177\n",
      "[8, 14, 15, 21, 40, 49, 43, 45, 57, 60]\t9\t6\t0:00:00.003209\n",
      "[8, 14, 15, 21, 40, 49, 43, 45, 57, 97]\t9\t6\t0:00:00.003253\n",
      "[8, 14, 15, 21, 40, 49, 43, 47, 57, 97]\t9\t6\t0:00:00.003279\n",
      "[8, 14, 15, 21, 40, 49, 43, 50, 57, 97]\t9\t6\t0:00:00.003320\n",
      "[8, 14, 15, 21, 40, 49, 43, 50, 57, 63]\t9\t6\t0:00:00.003377\n",
      "[8, 14, 15, 21, 43, 49, 43, 50, 57, 63]\t9\t6\t0:00:00.003403\n",
      "[8, 14, 15, 21, 36, 49, 43, 50, 57, 63]\t9\t6\t0:00:00.003537\n",
      "[8, 14, 15, 21, 36, 33, 43, 50, 57, 63]\t9\t3\t0:00:00.003645\n",
      "[8, 14, 15, 21, 36, 33, 43, 50, 57, 71]\t9\t3\t0:00:00.003679\n",
      "[8, 14, 15, 21, 36, 33, 47, 50, 57, 71]\t9\t3\t0:00:00.003741\n",
      "[8, 14, 15, 33, 36, 33, 47, 50, 57, 71]\t9\t3\t0:00:00.003773\n",
      "[8, 14, 15, 33, 35, 33, 47, 50, 57, 71]\t9\t2\t0:00:00.003799\n",
      "[8, 14, 15, 33, 35, 39, 47, 50, 57, 71]\t10\t0\t0:00:00.003872\n"
     ]
    }
   ],
   "source": [
    "sort_numbers = genetic.Genetic(gene_set, get_fitness, display, Fitness(10, 0), 10)\n",
    "best = sort_numbers.solve(display_on=True)"
   ]
  },
  {
   "cell_type": "code",
   "execution_count": 5,
   "metadata": {},
   "outputs": [
    {
     "name": "stdout",
     "output_type": "stream",
     "text": [
      "0.5474878599999999\n",
      "0.2583229269080861\n"
     ]
    }
   ],
   "source": [
    "times = []\n",
    "for i in range(100):\n",
    "    sort_numbers = genetic.Genetic(gene_set, get_fitness, display, Fitness(40, 0), 40)\n",
    "    best = sort_numbers.solve(display_on=False)\n",
    "    times.append((datetime.datetime.now()-sort_numbers.start_time).total_seconds())\n",
    "print(np.mean(times))\n",
    "print(np.std(times))"
   ]
  },
  {
   "cell_type": "code",
   "execution_count": null,
   "metadata": {},
   "outputs": [],
   "source": []
  }
 ],
 "metadata": {
  "kernelspec": {
   "display_name": "Python 3",
   "language": "python",
   "name": "python3"
  },
  "language_info": {
   "codemirror_mode": {
    "name": "ipython",
    "version": 3
   },
   "file_extension": ".py",
   "mimetype": "text/x-python",
   "name": "python",
   "nbconvert_exporter": "python",
   "pygments_lexer": "ipython3",
   "version": "3.7.3"
  }
 },
 "nbformat": 4,
 "nbformat_minor": 2
}
