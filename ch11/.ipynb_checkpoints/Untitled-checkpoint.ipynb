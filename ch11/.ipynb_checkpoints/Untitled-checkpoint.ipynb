{
 "cells": [
  {
   "cell_type": "code",
   "execution_count": 1,
   "metadata": {},
   "outputs": [],
   "source": [
    "import string"
   ]
  },
  {
   "cell_type": "code",
   "execution_count": 2,
   "metadata": {},
   "outputs": [],
   "source": [
    "myString = '''This course is designed for those students have no experience or\n",
    "limited experience on Python. This course will cover the basis\n",
    "syntax rules, modules, importing packages (Numpy, pandas), data\n",
    "visualization, and Intro for machine learning on Python. You will\n",
    "need to implement what you learn from this course to do a finance\n",
    "related project. This course aims to get you familiar with Python\n",
    "language, and can finish a simple project with Python.\n",
    "'''"
   ]
  },
  {
   "cell_type": "code",
   "execution_count": 7,
   "metadata": {},
   "outputs": [],
   "source": [
    "def str_func(str):\n",
    "    new_str = str.replace('\\n', ' ')\n",
    "    str_list = new_str.split(' ')\n",
    "    new_list = []\n",
    "    for item in str_list:\n",
    "        if item == '':\n",
    "            break\n",
    "        if item[0] in string.punctuation:\n",
    "            item = item[1:]\n",
    "        if item[-1] in string.punctuation:\n",
    "            item = item[:-1]\n",
    "        item = item.lower()\n",
    "        new_list.append(item)\n",
    "    counts = {}\n",
    "    for s in new_list:\n",
    "        try:\n",
    "            counts[s] += 1\n",
    "        except:\n",
    "            counts[s] = 1\n",
    "    max_ct = 0\n",
    "    for s in counts:\n",
    "        if counts[s] > max_ct:\n",
    "            best = s\n",
    "            max_ct = counts[s]\n",
    "    print(f'The most frequent key is {best}, its frequency is {max_ct}.')\n"
   ]
  },
  {
   "cell_type": "code",
   "execution_count": 5,
   "metadata": {},
   "outputs": [],
   "source": []
  },
  {
   "cell_type": "code",
   "execution_count": 6,
   "metadata": {},
   "outputs": [
    {
     "data": {
      "text/plain": [
       "{'this': 4,\n",
       " 'course': 4,\n",
       " 'is': 1,\n",
       " 'designed': 1,\n",
       " 'for': 2,\n",
       " 'those': 1,\n",
       " 'students': 1,\n",
       " 'have': 1,\n",
       " 'no': 1,\n",
       " 'experience': 2,\n",
       " 'or': 1,\n",
       " 'limited': 1,\n",
       " 'on': 2,\n",
       " 'python': 4,\n",
       " 'will': 2,\n",
       " 'cover': 1,\n",
       " 'the': 1,\n",
       " 'basis': 1,\n",
       " 'syntax': 1,\n",
       " 'rules': 1,\n",
       " 'modules': 1,\n",
       " 'importing': 1,\n",
       " 'packages': 1,\n",
       " 'numpy': 1,\n",
       " 'pandas)': 1,\n",
       " 'data': 1,\n",
       " 'visualization': 1,\n",
       " 'and': 2,\n",
       " 'intro': 1,\n",
       " 'machine': 1,\n",
       " 'learning': 1,\n",
       " 'you': 3,\n",
       " 'need': 1,\n",
       " 'to': 3,\n",
       " 'implement': 1,\n",
       " 'what': 1,\n",
       " 'learn': 1,\n",
       " 'from': 1,\n",
       " 'do': 1,\n",
       " 'a': 2,\n",
       " 'finance': 1,\n",
       " 'related': 1,\n",
       " 'project': 2,\n",
       " 'aims': 1,\n",
       " 'get': 1,\n",
       " 'familiar': 1,\n",
       " 'with': 2,\n",
       " 'language': 1,\n",
       " 'can': 1,\n",
       " 'finish': 1,\n",
       " 'simple': 1}"
      ]
     },
     "execution_count": 6,
     "metadata": {},
     "output_type": "execute_result"
    }
   ],
   "source": [
    "        "
   ]
  },
  {
   "cell_type": "code",
   "execution_count": null,
   "metadata": {},
   "outputs": [],
   "source": [
    "s[:-1]"
   ]
  },
  {
   "cell_type": "code",
   "execution_count": null,
   "metadata": {},
   "outputs": [],
   "source": []
  }
 ],
 "metadata": {
  "kernelspec": {
   "display_name": "Python 3",
   "language": "python",
   "name": "python3"
  },
  "language_info": {
   "codemirror_mode": {
    "name": "ipython",
    "version": 3
   },
   "file_extension": ".py",
   "mimetype": "text/x-python",
   "name": "python",
   "nbconvert_exporter": "python",
   "pygments_lexer": "ipython3",
   "version": "3.7.3"
  }
 },
 "nbformat": 4,
 "nbformat_minor": 2
}
