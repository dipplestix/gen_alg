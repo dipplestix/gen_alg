{
 "cells": [
  {
   "cell_type": "code",
   "execution_count": 1,
   "metadata": {},
   "outputs": [],
   "source": [
    "#Travelling Salesman"
   ]
  },
  {
   "cell_type": "code",
   "execution_count": 2,
   "metadata": {},
   "outputs": [],
   "source": [
    "import genetic\n",
    "import datetime\n",
    "import numpy as np\n",
    "import copy\n",
    "from functools import reduce\n",
    "import random\n",
    "import time\n",
    "from math import sqrt, exp\n",
    "import math"
   ]
  },
  {
   "cell_type": "code",
   "execution_count": 3,
   "metadata": {},
   "outputs": [],
   "source": [
    "#Define the genes\n",
    "class Location:\n",
    "    def __init__(self, name, x, y):\n",
    "        self.name = name\n",
    "        self.x = x\n",
    "        self.y = y\n",
    "\n",
    "A = Location('A', 4, 7)\n",
    "B = Location('B', 2, 6)\n",
    "C = Location('C', 0, 5)\n",
    "D = Location('D', 1, 3)\n",
    "E = Location('E', 3, 0)\n",
    "F = Location('F', 5, 1)\n",
    "G = Location('G', 7, 2)\n",
    "H = Location('H', 6, 4)\n",
    "\n",
    "genes = [A, B, C, D, E, F, G, H]"
   ]
  },
  {
   "cell_type": "code",
   "execution_count": 4,
   "metadata": {},
   "outputs": [],
   "source": [
    "#Define the individual\n",
    "        \n",
    "class Path(genetic.Individual):    \n",
    "    def __init__(self, genome, fitness, age=0):\n",
    "        self.genome = genome\n",
    "        self.fitness = fitness\n",
    "        self.age = 0"
   ]
  },
  {
   "cell_type": "code",
   "execution_count": 5,
   "metadata": {},
   "outputs": [],
   "source": [
    "#Define the initialization\n",
    "\n",
    "def initialize(lambda_, genes, individual, fitness):\n",
    "    init_pop = []\n",
    "    for n in range(lambda_):\n",
    "        new_genes = copy.copy(genes)\n",
    "        random.shuffle(new_genes)\n",
    "        fit = fitness(new_genes)\n",
    "        init_pop.append(individual(new_genes, fit))\n",
    "    return init_pop"
   ]
  },
  {
   "cell_type": "code",
   "execution_count": 6,
   "metadata": {},
   "outputs": [],
   "source": [
    "#Define the fitness\n",
    "\n",
    "class Fitness:\n",
    "    def __init__(self, distance):\n",
    "        self.total_distance = distance\n",
    "        \n",
    "    def __ne__(self, other):\n",
    "        return self.total_distance != other.total_distance\n",
    "                       \n",
    "    def __gt__(self, other):\n",
    "        return self.total_distance < other.total_distance\n",
    "    \n",
    "    def __lt__(self, other):\n",
    "        if other == np.inf:\n",
    "            return True\n",
    "\n",
    "        \n",
    "def get_fitness(genes):\n",
    "    dist = 0\n",
    "    for i in range(len(genes)-1):\n",
    "        l1 = genes[i]\n",
    "        l2 = genes[i+1]\n",
    "        dist += sqrt(((l1.x-l2.x)**2)+((l1.y-l2.y)**2))\n",
    "    l1 = genes[-1]\n",
    "    l2 = genes[0]\n",
    "    dist += sqrt(((l1.x-l2.x)**2)+((l1.y-l2.y)**2))\n",
    "    return Fitness(dist)\n",
    "        \n",
    "    "
   ]
  },
  {
   "cell_type": "code",
   "execution_count": 7,
   "metadata": {},
   "outputs": [],
   "source": [
    "#define mutation\n",
    "\n",
    "def swap(genes):\n",
    "    new_genes = genes\n",
    "    index = random.sample(list(range(len(new_genes))), 2)\n",
    "    swap = new_genes[index[0]]\n",
    "    new_genes[index[0]] = new_genes[index[1]]\n",
    "    new_genes[index[1]] = swap\n",
    "    return new_genes\n",
    "\n",
    "def mutate(ind, gen, fitness, ind_class):\n",
    "    genome = copy.copy(ind.genome)\n",
    "    if random.random() < .8:\n",
    "        genome = swap(genome)\n",
    "    else:\n",
    "        for n in range(random.randrange(1, len(ind.genome)//2)):\n",
    "            genome = swap(genome)\n",
    "    fit = fitness(genome)\n",
    "    return ind_class(genome, fit)"
   ]
  },
  {
   "cell_type": "code",
   "execution_count": 8,
   "metadata": {},
   "outputs": [],
   "source": [
    "#Define sampling\n",
    "\n",
    "def truncation_selection(population, n, gen, fitness, anneal=False):\n",
    "    population.sort(key=lambda x: x.fitness, reverse=True)\n",
    "    if anneal is True:\n",
    "        individual = population[n-1]\n",
    "        test = population[n]\n",
    "        if exp(-(individual-population[n])/(1/log(gen))) > random.random():\n",
    "            population[n-1] = test\n",
    "            population[n] = individual\n",
    "    return population[:n]\n",
    "\n",
    "def tournament_selection(population, n, gen, fitness, p=1.5):\n",
    "    winners = []\n",
    "    for i in range(n):\n",
    "        if p%1 != 0:\n",
    "            if random.random() < p%1:\n",
    "                loop_p = math.ceil(p)\n",
    "            else:\n",
    "                loop_p = math.floor(p)\n",
    "        else:\n",
    "            loop_p = p\n",
    "        contestants = random.sample(population, loop_p)\n",
    "        contestants.sort(key=lambda x: x.fitness, reverse=True)\n",
    "        winners.append(contestants[0])\n",
    "    return winners\n"
   ]
  },
  {
   "cell_type": "code",
   "execution_count": 9,
   "metadata": {},
   "outputs": [],
   "source": [
    "#Define display\n",
    "\n",
    "def display(ind, start_time):\n",
    "    print(time.time()-start_time)\n",
    "    path = [x.name for x in ind.genome]\n",
    "    print(f'The individual\\'s genome: \\n {path} \\n and fitness: {ind.fitness.total_distance}')"
   ]
  },
  {
   "cell_type": "code",
   "execution_count": 10,
   "metadata": {},
   "outputs": [],
   "source": [
    "tsp = genetic.EvFuncs(genes, Path, initialize, get_fitness,\n",
    "            mutate, truncation_selection, display)"
   ]
  },
  {
   "cell_type": "code",
   "execution_count": 11,
   "metadata": {},
   "outputs": [],
   "source": [
    "tsp_es = genetic.ES(tsp, 1, 1, timer=10)  "
   ]
  },
  {
   "cell_type": "code",
   "execution_count": 12,
   "metadata": {},
   "outputs": [
    {
     "name": "stdout",
     "output_type": "stream",
     "text": [
      "0.0002238750457763672\n",
      "The individual's genome: \n",
      " ['D', 'A', 'B', 'C', 'E', 'F', 'H', 'G'] \n",
      " and fitness: 29.02026399531106\n",
      "0.0008399486541748047\n",
      "The individual's genome: \n",
      " ['F', 'A', 'D', 'C', 'B', 'H', 'G', 'E'] \n",
      " and fitness: 28.971306350296537\n",
      "0.0010089874267578125\n",
      "The individual's genome: \n",
      " ['F', 'B', 'C', 'D', 'A', 'H', 'G', 'E'] \n",
      " and fitness: 27.85291103530803\n",
      "0.001374959945678711\n",
      "The individual's genome: \n",
      " ['H', 'G', 'F', 'D', 'C', 'B', 'A', 'E'] \n",
      " and fitness: 27.723543654364004\n",
      "0.0014300346374511719\n",
      "The individual's genome: \n",
      " ['H', 'G', 'E', 'D', 'C', 'B', 'A', 'F'] \n",
      " and fitness: 26.266999330929323\n",
      "0.004648923873901367\n",
      "The individual's genome: \n",
      " ['B', 'A', 'H', 'G', 'F', 'E', 'D', 'C'] \n",
      " and fitness: 20.627510415926718\n",
      "0.07341480255126953\n",
      "The individual's genome: \n",
      " ['E', 'F', 'G', 'H', 'A', 'B', 'C', 'D'] \n",
      " and fitness: 20.627510415926714\n"
     ]
    }
   ],
   "source": [
    "a = tsp_es.solve()"
   ]
  },
  {
   "cell_type": "code",
   "execution_count": 13,
   "metadata": {},
   "outputs": [],
   "source": [
    "import re\n",
    "points = '''1 38.24 20.42\n",
    "2 39.57 26.15\n",
    "3 40.56 25.32\n",
    "4 36.26 23.12\n",
    "5 33.48 10.54\n",
    "6 37.56 12.19\n",
    "7 38.42 13.11\n",
    "8 37.52 20.44\n",
    "9 41.23 9.10\n",
    "10 41.17 13.05\n",
    "11 36.08 -5.21\n",
    "12 38.47 15.13\n",
    "13 38.15 15.35\n",
    "14 37.51 15.17\n",
    "15 35.49 14.32\n",
    "16 39.36 19.56\n",
    "'''\n",
    "points = re.split(\"[' ', '\\n']\", points)\n",
    "genes = []\n",
    "for i in range(0, len(points)-1, 3):\n",
    "    genes.append(Location(points[i], float(points[i+1]), float(points[i+2])))"
   ]
  },
  {
   "cell_type": "code",
   "execution_count": 14,
   "metadata": {},
   "outputs": [],
   "source": [
    "tsp = genetic.EvFuncs(genes, Path, initialize, get_fitness,\n",
    "            mutate, tournament_selection, display)\n",
    "tsp_es = genetic.ES(tsp, 1, 1, timer=300)  "
   ]
  },
  {
   "cell_type": "code",
   "execution_count": null,
   "metadata": {},
   "outputs": [
    {
     "name": "stdout",
     "output_type": "stream",
     "text": [
      "0.00019407272338867188\n",
      "The individual's genome: \n",
      " ['13', '14', '11', '15', '2', '1', '4', '12', '9', '6', '5', '3', '7', '8', '16', '10'] \n",
      " and fitness: 135.26048754952984\n",
      "0.0006730556488037109\n",
      "The individual's genome: \n",
      " ['13', '14', '11', '15', '2', '1', '4', '12', '9', '6', '5', '3', '10', '8', '16', '7'] \n",
      " and fitness: 134.22803344105645\n",
      "0.0009102821350097656\n",
      "The individual's genome: \n",
      " ['12', '13', '11', '5', '14', '1', '4', '7', '10', '9', '8', '3', '15', '6', '16', '2'] \n",
      " and fitness: 126.76182571707976\n",
      "0.0012142658233642578\n",
      "The individual's genome: \n",
      " ['14', '7', '4', '2', '3', '6', '12', '1', '16', '10', '8', '11', '9', '5', '13', '15'] \n",
      " and fitness: 117.05366259594769\n",
      "0.002634286880493164\n",
      "The individual's genome: \n",
      " ['15', '8', '10', '7', '5', '12', '14', '2', '3', '1', '16', '4', '11', '9', '13', '6'] \n",
      " and fitness: 111.45926135258296\n",
      "0.009031295776367188\n",
      "The individual's genome: \n",
      " ['5', '6', '9', '13', '15', '14', '12', '3', '2', '4', '16', '10', '11', '7', '8', '1'] \n",
      " and fitness: 106.32726963316514\n",
      "0.010667085647583008\n",
      "The individual's genome: \n",
      " ['9', '11', '15', '3', '2', '4', '8', '12', '14', '16', '1', '6', '10', '5', '13', '7'] \n",
      " and fitness: 102.0466574544647\n",
      "0.07067537307739258\n",
      "The individual's genome: \n",
      " ['8', '11', '9', '10', '14', '7', '15', '6', '5', '12', '13', '2', '1', '4', '3', '16'] \n",
      " and fitness: 101.9174122368501\n",
      "0.13488411903381348\n",
      "The individual's genome: \n",
      " ['4', '7', '6', '15', '5', '11', '14', '13', '12', '16', '8', '9', '10', '2', '3', '1'] \n",
      " and fitness: 101.89647539018524\n",
      "0.1437671184539795\n",
      "The individual's genome: \n",
      " ['5', '12', '11', '9', '7', '15', '13', '10', '6', '14', '3', '2', '16', '1', '4', '8'] \n",
      " and fitness: 100.77288123611557\n",
      "0.1537179946899414\n",
      "The individual's genome: \n",
      " ['4', '3', '2', '12', '15', '16', '1', '7', '6', '11', '9', '5', '13', '14', '10', '8'] \n",
      " and fitness: 100.13897986566565\n",
      "0.19433116912841797\n",
      "The individual's genome: \n",
      " ['7', '10', '5', '13', '6', '9', '11', '15', '8', '4', '1', '16', '3', '2', '14', '12'] \n",
      " and fitness: 95.8018339325868\n",
      "0.22835612297058105\n",
      "The individual's genome: \n",
      " ['4', '2', '12', '14', '13', '7', '10', '9', '6', '11', '5', '15', '3', '16', '8', '1'] \n",
      " and fitness: 92.75388288018831\n",
      "0.9474301338195801\n",
      "The individual's genome: \n",
      " ['13', '10', '11', '5', '9', '6', '12', '14', '7', '15', '3', '2', '4', '8', '1', '16'] \n",
      " and fitness: 88.22189530041572\n",
      "7.717428207397461\n",
      "The individual's genome: \n",
      " ['12', '6', '5', '11', '10', '9', '16', '1', '8', '4', '2', '3', '7', '15', '13', '14'] \n",
      " and fitness: 87.89159614278267\n",
      "16.85300302505493\n",
      "The individual's genome: \n",
      " ['6', '14', '10', '9', '12', '13', '16', '8', '1', '4', '2', '3', '15', '5', '11', '7'] \n",
      " and fitness: 86.53305218427315\n",
      "35.165635108947754\n",
      "The individual's genome: \n",
      " ['16', '13', '5', '6', '7', '9', '11', '15', '14', '12', '10', '3', '2', '4', '8', '1'] \n",
      " and fitness: 86.10781132115382\n"
     ]
    }
   ],
   "source": [
    "a = tsp_es.solve()"
   ]
  },
  {
   "cell_type": "code",
   "execution_count": null,
   "metadata": {},
   "outputs": [],
   "source": [
    "index = [12, 16, 1, 3, 2, 4, 8, 15, 5, 11, 9, 10, 7, 6, 14, 13]\n",
    "gen = [genes[i-1] for i in index]"
   ]
  },
  {
   "cell_type": "code",
   "execution_count": null,
   "metadata": {},
   "outputs": [],
   "source": [
    "get_fitness(gen).total_distance"
   ]
  },
  {
   "cell_type": "code",
   "execution_count": null,
   "metadata": {},
   "outputs": [],
   "source": [
    "index_2 =  ['11', '5', '6', '9', '10', '12', '14', '13', '15', '7', '8', '16', '1', '4', '3', '2'] \n",
    "index = [int(x) for x in index_2]\n",
    "gen = [genes[i-1] for i in index]\n",
    "get_fitness(gen).total_distance"
   ]
  },
  {
   "cell_type": "code",
   "execution_count": null,
   "metadata": {},
   "outputs": [],
   "source": [
    "a = 5"
   ]
  },
  {
   "cell_type": "code",
   "execution_count": null,
   "metadata": {},
   "outputs": [],
   "source": [
    "print('asdf', a)"
   ]
  },
  {
   "cell_type": "code",
   "execution_count": null,
   "metadata": {},
   "outputs": [],
   "source": []
  }
 ],
 "metadata": {
  "kernelspec": {
   "display_name": "Python 3",
   "language": "python",
   "name": "python3"
  },
  "language_info": {
   "codemirror_mode": {
    "name": "ipython",
    "version": 3
   },
   "file_extension": ".py",
   "mimetype": "text/x-python",
   "name": "python",
   "nbconvert_exporter": "python",
   "pygments_lexer": "ipython3",
   "version": "3.7.3"
  }
 },
 "nbformat": 4,
 "nbformat_minor": 2
}
