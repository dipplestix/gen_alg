{
 "cells": [
  {
   "cell_type": "code",
   "execution_count": 1,
   "metadata": {},
   "outputs": [],
   "source": [
    "#Travelling Salesman"
   ]
  },
  {
   "cell_type": "code",
   "execution_count": 2,
   "metadata": {},
   "outputs": [],
   "source": [
    "import genetic\n",
    "import datetime\n",
    "import numpy as np\n",
    "import copy\n",
    "from functools import reduce\n",
    "import random\n",
    "import time\n",
    "from math import sqrt, exp\n",
    "import math"
   ]
  },
  {
   "cell_type": "code",
   "execution_count": 3,
   "metadata": {},
   "outputs": [],
   "source": [
    "#Define the genes\n",
    "class Location:\n",
    "    def __init__(self, name, x, y):\n",
    "        self.name = name\n",
    "        self.x = x\n",
    "        self.y = y\n",
    "\n",
    "A = Location('A', 4, 7)\n",
    "B = Location('B', 2, 6)\n",
    "C = Location('C', 0, 5)\n",
    "D = Location('D', 1, 3)\n",
    "E = Location('E', 3, 0)\n",
    "F = Location('F', 5, 1)\n",
    "G = Location('G', 7, 2)\n",
    "H = Location('H', 6, 4)\n",
    "\n",
    "genes = [A, B, C, D, E, F, G, H]"
   ]
  },
  {
   "cell_type": "code",
   "execution_count": 4,
   "metadata": {},
   "outputs": [],
   "source": [
    "#Define the individual\n",
    "        \n",
    "class Path(genetic.Individual):    \n",
    "    def __init__(self, genome, fitness, age=0):\n",
    "        self.genome = genome\n",
    "        self.fitness = fitness\n",
    "        self.age = 0"
   ]
  },
  {
   "cell_type": "code",
   "execution_count": 5,
   "metadata": {},
   "outputs": [],
   "source": [
    "#Define the initialization\n",
    "\n",
    "def initialize(lambda_, genes, individual, fitness):\n",
    "    init_pop = []\n",
    "    for n in range(lambda_):\n",
    "        new_genes = copy.copy(genes)\n",
    "        random.shuffle(new_genes)\n",
    "        fit = fitness(new_genes)\n",
    "        init_pop.append(individual(new_genes, fit))\n",
    "    return init_pop"
   ]
  },
  {
   "cell_type": "code",
   "execution_count": 6,
   "metadata": {},
   "outputs": [],
   "source": [
    "#Define the fitness\n",
    "\n",
    "class Fitness:\n",
    "    def __init__(self, distance):\n",
    "        self.total_distance = distance\n",
    "        \n",
    "    def __ne__(self, other):\n",
    "        return self.total_distance != other.total_distance\n",
    "                       \n",
    "    def __gt__(self, other):\n",
    "        return self.total_distance < other.total_distance\n",
    "    \n",
    "    def __lt__(self, other):\n",
    "        if other == np.inf:\n",
    "            return True\n",
    "\n",
    "        \n",
    "def get_fitness(genes):\n",
    "    dist = 0\n",
    "    for i in range(len(genes)-1):\n",
    "        l1 = genes[i]\n",
    "        l2 = genes[i+1]\n",
    "        dist += sqrt(((l1.x-l2.x)**2)+((l1.y-l2.y)**2))\n",
    "    l1 = genes[-1]\n",
    "    l2 = genes[0]\n",
    "    dist += sqrt(((l1.x-l2.x)**2)+((l1.y-l2.y)**2))\n",
    "    return Fitness(dist)\n",
    "        \n",
    "    "
   ]
  },
  {
   "cell_type": "code",
   "execution_count": 7,
   "metadata": {},
   "outputs": [],
   "source": [
    "#define mutation\n",
    "\n",
    "def swap(genes):\n",
    "    new_genes = genes\n",
    "    index = random.sample(list(range(len(new_genes))), 2)\n",
    "    swap = new_genes[index[0]]\n",
    "    new_genes[index[0]] = new_genes[index[1]]\n",
    "    new_genes[index[1]] = swap\n",
    "    return new_genes\n",
    "\n",
    "def mutate(ind, gen, fitness, ind_class):\n",
    "    genome = copy.copy(ind.genome)\n",
    "    if random.random() < .8:\n",
    "        genome = swap(genome)\n",
    "    else:\n",
    "        for n in range(random.randrange(1, len(ind.genome)//2)):\n",
    "            genome = swap(genome)\n",
    "    fit = fitness(genome)\n",
    "    return ind_class(genome, fit)"
   ]
  },
  {
   "cell_type": "code",
   "execution_count": 8,
   "metadata": {},
   "outputs": [],
   "source": [
    "#Define sampling\n",
    "\n",
    "def truncation_selection(population, n, gen, fitness, anneal=False):\n",
    "    population.sort(key=lambda x: x.fitness, reverse=True)\n",
    "    if anneal is True:\n",
    "        individual = population[n-1]\n",
    "        test = population[n]\n",
    "        if exp(-(individual-population[n])/(1/log(gen))) > random.random():\n",
    "            population[n-1] = test\n",
    "            population[n] = individual\n",
    "    return population[:n]\n",
    "\n",
    "def tournament_selection(population, n, gen, fitness, p=1.8):\n",
    "    winners = []\n",
    "    for i in range(n):\n",
    "        if p%1 != 0:\n",
    "            if random.random() < p%1:\n",
    "                loop_p = math.ceil(p)\n",
    "            else:\n",
    "                loop_p = math.floor(p)\n",
    "        else:\n",
    "            loop_p = p\n",
    "        contestants = random.sample(population, loop_p)\n",
    "        contestants.sort(key=lambda x: x.fitness, reverse=True)\n",
    "        winners.append(contestants[0])\n",
    "    return winners\n"
   ]
  },
  {
   "cell_type": "code",
   "execution_count": 9,
   "metadata": {},
   "outputs": [],
   "source": [
    "#Define display\n",
    "\n",
    "def display(ind, start_time):\n",
    "    print(time.time()-start_time)\n",
    "    path = [x.name for x in ind.genome]\n",
    "    print(f'The individual\\'s genome: \\n {path} \\n and fitness: {ind.fitness.total_distance}')"
   ]
  },
  {
   "cell_type": "code",
   "execution_count": 10,
   "metadata": {},
   "outputs": [],
   "source": [
    "tsp = genetic.EvFuncs(genes, Path, initialize, get_fitness,\n",
    "            mutate, truncation_selection, display)"
   ]
  },
  {
   "cell_type": "code",
   "execution_count": 11,
   "metadata": {},
   "outputs": [],
   "source": [
    "tsp_es = genetic.ES(tsp, 1, 1, timer=10)  "
   ]
  },
  {
   "cell_type": "code",
   "execution_count": 12,
   "metadata": {},
   "outputs": [
    {
     "name": "stdout",
     "output_type": "stream",
     "text": [
      "0.00012993812561035156\n",
      "The individual's genome: \n",
      " ['G', 'F', 'D', 'A', 'E', 'C', 'B', 'H'] \n",
      " and fitness: 33.55449554920931\n",
      "0.00031185150146484375\n",
      "The individual's genome: \n",
      " ['D', 'F', 'G', 'H', 'E', 'C', 'B', 'A'] \n",
      " and fitness: 29.247359759844038\n",
      "0.0003876686096191406\n",
      "The individual's genome: \n",
      " ['H', 'F', 'G', 'D', 'E', 'C', 'B', 'A'] \n",
      " and fitness: 28.995298568739248\n",
      "0.0006368160247802734\n",
      "The individual's genome: \n",
      " ['H', 'G', 'F', 'E', 'D', 'A', 'C', 'B'] \n",
      " and fitness: 26.49409509546231\n",
      "0.002816915512084961\n",
      "The individual's genome: \n",
      " ['F', 'E', 'D', 'B', 'C', 'A', 'H', 'G'] \n",
      " and fitness: 23.789788076095096\n",
      "0.0061228275299072266\n",
      "The individual's genome: \n",
      " ['H', 'A', 'B', 'C', 'D', 'E', 'F', 'G'] \n",
      " and fitness: 20.627510415926718\n",
      "0.050122976303100586\n",
      "The individual's genome: \n",
      " ['A', 'B', 'C', 'D', 'E', 'F', 'G', 'H'] \n",
      " and fitness: 20.627510415926714\n"
     ]
    }
   ],
   "source": [
    "a = tsp_es.solve()"
   ]
  },
  {
   "cell_type": "code",
   "execution_count": 13,
   "metadata": {},
   "outputs": [],
   "source": [
    "import re\n",
    "points = '''1 38.24 20.42\n",
    "2 39.57 26.15\n",
    "3 40.56 25.32\n",
    "4 36.26 23.12\n",
    "5 33.48 10.54\n",
    "6 37.56 12.19\n",
    "7 38.42 13.11\n",
    "8 37.52 20.44\n",
    "9 41.23 9.10\n",
    "10 41.17 13.05\n",
    "11 36.08 -5.21\n",
    "12 38.47 15.13\n",
    "13 38.15 15.35\n",
    "14 37.51 15.17\n",
    "15 35.49 14.32\n",
    "16 39.36 19.56\n",
    "'''\n",
    "points = re.split(\"[' ', '\\n']\", points)\n",
    "genes = []\n",
    "for i in range(0, len(points)-1, 3):\n",
    "    genes.append(Location(points[i], float(points[i+1]), float(points[i+2])))"
   ]
  },
  {
   "cell_type": "code",
   "execution_count": 16,
   "metadata": {},
   "outputs": [],
   "source": [
    "tsp = genetic.EvFuncs(genes, Path, initialize, get_fitness,\n",
    "            mutate, tournament_selection, display)\n",
    "tsp_es = genetic.ES(tsp, 2, 2, timer=300)  "
   ]
  },
  {
   "cell_type": "code",
   "execution_count": 17,
   "metadata": {},
   "outputs": [
    {
     "name": "stdout",
     "output_type": "stream",
     "text": [
      "0.00017714500427246094\n",
      "The individual's genome: \n",
      " ['4', '2', '14', '9', '11', '13', '8', '6', '10', '7', '12', '15', '16', '3', '5', '1'] \n",
      " and fitness: 126.70117510254043\n",
      "0.00040721893310546875\n",
      "The individual's genome: \n",
      " ['14', '6', '9', '3', '2', '11', '10', '13', '4', '1', '8', '15', '16', '12', '5', '7'] \n",
      " and fitness: 123.75578337684152\n",
      "0.001373291015625\n",
      "The individual's genome: \n",
      " ['4', '8', '10', '12', '5', '6', '1', '3', '16', '11', '7', '9', '13', '14', '15', '2'] \n",
      " and fitness: 120.5330653655846\n",
      "0.003748178482055664\n",
      "The individual's genome: \n",
      " ['8', '3', '10', '4', '16', '2', '13', '7', '12', '11', '9', '14', '6', '5', '15', '1'] \n",
      " and fitness: 117.60329949709607\n",
      "0.004145145416259766\n",
      "The individual's genome: \n",
      " ['1', '2', '3', '4', '7', '8', '13', '12', '16', '11', '9', '14', '6', '5', '15', '10'] \n",
      " and fitness: 112.39334153699204\n",
      "0.005105257034301758\n",
      "The individual's genome: \n",
      " ['1', '2', '4', '8', '7', '10', '13', '5', '15', '6', '12', '9', '11', '14', '16', '3'] \n",
      " and fitness: 102.63529929944904\n",
      "0.043801307678222656\n",
      "The individual's genome: \n",
      " ['12', '15', '8', '4', '2', '3', '1', '14', '9', '6', '10', '16', '13', '7', '11', '5'] \n",
      " and fitness: 99.2321593674274\n",
      "0.04416227340698242\n",
      "The individual's genome: \n",
      " ['12', '15', '8', '4', '2', '3', '1', '14', '6', '9', '10', '16', '13', '7', '11', '5'] \n",
      " and fitness: 95.33278989056258\n",
      "0.062238216400146484\n",
      "The individual's genome: \n",
      " ['3', '2', '6', '14', '13', '10', '7', '5', '15', '11', '9', '12', '16', '1', '4', '8'] \n",
      " and fitness: 94.80627145270417\n",
      "0.8506321907043457\n",
      "The individual's genome: \n",
      " ['13', '9', '11', '5', '12', '10', '7', '14', '15', '6', '1', '8', '16', '4', '3', '2'] \n",
      " and fitness: 91.24548417378585\n",
      "1.41693115234375\n",
      "The individual's genome: \n",
      " ['5', '15', '10', '7', '12', '14', '13', '3', '4', '2', '8', '1', '16', '6', '9', '11'] \n",
      " and fitness: 87.82815801043154\n",
      "3.7320351600646973\n",
      "The individual's genome: \n",
      " ['12', '13', '15', '3', '2', '8', '4', '1', '16', '14', '6', '9', '11', '5', '10', '7'] \n",
      " and fitness: 87.00752014013334\n",
      "4.905978202819824\n",
      "The individual's genome: \n",
      " ['8', '16', '3', '2', '4', '14', '12', '13', '15', '10', '9', '11', '6', '7', '5', '1'] \n",
      " and fitness: 86.9089606629843\n",
      "5.347064256668091\n",
      "The individual's genome: \n",
      " ['13', '12', '8', '16', '1', '2', '4', '3', '10', '6', '7', '9', '11', '5', '15', '14'] \n",
      " and fitness: 84.89553015997042\n",
      "6.909296274185181\n",
      "The individual's genome: \n",
      " ['8', '1', '4', '13', '10', '9', '11', '5', '6', '7', '12', '15', '14', '16', '2', '3'] \n",
      " and fitness: 82.34248881268327\n",
      "10.309807300567627\n",
      "The individual's genome: \n",
      " ['6', '5', '11', '9', '10', '12', '7', '13', '15', '14', '16', '3', '2', '4', '1', '8'] \n",
      " and fitness: 80.99770549791688\n",
      "243.61264634132385\n",
      "The individual's genome: \n",
      " ['15', '8', '4', '2', '3', '1', '16', '6', '10', '9', '11', '5', '7', '13', '14', '12'] \n",
      " and fitness: 80.98049943090876\n"
     ]
    }
   ],
   "source": [
    "a = tsp_es.solve()"
   ]
  },
  {
   "cell_type": "code",
   "execution_count": null,
   "metadata": {},
   "outputs": [],
   "source": [
    "index = [12, 16, 1, 3, 2, 4, 8, 15, 5, 11, 9, 10, 7, 6, 14, 13]\n",
    "gen = [genes[i-1] for i in index]"
   ]
  },
  {
   "cell_type": "code",
   "execution_count": null,
   "metadata": {},
   "outputs": [],
   "source": [
    "get_fitness(gen).total_distance"
   ]
  },
  {
   "cell_type": "code",
   "execution_count": null,
   "metadata": {},
   "outputs": [],
   "source": [
    "index_2 =  ['11', '5', '6', '9', '10', '12', '14', '13', '15', '7', '8', '16', '1', '4', '3', '2'] \n",
    "index = [int(x) for x in index_2]\n",
    "gen = [genes[i-1] for i in index]\n",
    "get_fitness(gen).total_distance"
   ]
  },
  {
   "cell_type": "code",
   "execution_count": null,
   "metadata": {},
   "outputs": [],
   "source": [
    "a = 5"
   ]
  },
  {
   "cell_type": "code",
   "execution_count": null,
   "metadata": {},
   "outputs": [],
   "source": [
    "print('asdf', a)"
   ]
  },
  {
   "cell_type": "code",
   "execution_count": null,
   "metadata": {},
   "outputs": [],
   "source": []
  }
 ],
 "metadata": {
  "kernelspec": {
   "display_name": "Python 3",
   "language": "python",
   "name": "python3"
  },
  "language_info": {
   "codemirror_mode": {
    "name": "ipython",
    "version": 3
   },
   "file_extension": ".py",
   "mimetype": "text/x-python",
   "name": "python",
   "nbconvert_exporter": "python",
   "pygments_lexer": "ipython3",
   "version": "3.7.3"
  }
 },
 "nbformat": 4,
 "nbformat_minor": 2
}
