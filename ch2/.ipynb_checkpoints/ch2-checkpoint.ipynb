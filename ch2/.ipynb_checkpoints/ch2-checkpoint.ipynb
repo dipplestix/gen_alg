{
 "cells": [
  {
   "cell_type": "code",
   "execution_count": 1,
   "metadata": {
    "collapsed": true
   },
   "outputs": [],
   "source": [
    "#The goal of this exercise it to maximize the sum of a list where the gene_set is [0, 1]\n",
    "#The optimal list will therefore be all 1s"
   ]
  },
  {
   "cell_type": "code",
   "execution_count": 2,
   "metadata": {
    "collapsed": true
   },
   "outputs": [],
   "source": [
    "import genetic\n",
    "import datetime\n",
    "import pandas as pd\n",
    "import numpy as np"
   ]
  },
  {
   "cell_type": "code",
   "execution_count": 3,
   "metadata": {
    "collapsed": true
   },
   "outputs": [],
   "source": [
    "def get_fitness(genes):\n",
    "    return sum(genes)\n",
    "\n",
    "def display(chrom, start_time):\n",
    "    print(f'{chrom.fitness}\\t{len(chrom.genes)}\\t{datetime.datetime.now()-start_time}')\n",
    "    \n",
    "gene_set = [0, 1]"
   ]
  },
  {
   "cell_type": "code",
   "execution_count": 4,
   "metadata": {},
   "outputs": [
    {
     "name": "stdout",
     "output_type": "stream",
     "text": [
      "0:00:01.267726\n"
     ]
    }
   ],
   "source": [
    "n = 4000\n",
    "one_max = genetic.Genetic(gene_set, get_fitness, display, n)\n",
    "best = one_max.solve(display_on=False)\n",
    "print(datetime.datetime.now()-one_max.start_time)"
   ]
  },
  {
   "cell_type": "code",
   "execution_count": 5,
   "metadata": {},
   "outputs": [
    {
     "name": "stdout",
     "output_type": "stream",
     "text": [
      "1.3429754\n",
      "0.152673017946\n"
     ]
    }
   ],
   "source": [
    "times = []\n",
    "for i in range(10):\n",
    "    one_max = genetic.Genetic(gene_set, get_fitness, display, n)\n",
    "    best = one_max.solve(display_on=False)\n",
    "    times.append((datetime.datetime.now()-one_max.start_time).total_seconds())\n",
    "print(np.mean(times))\n",
    "print(np.std(times))"
   ]
  },
  {
   "cell_type": "code",
   "execution_count": null,
   "metadata": {
    "collapsed": true
   },
   "outputs": [],
   "source": []
  }
 ],
 "metadata": {
  "kernelspec": {
   "display_name": "Python 3",
   "language": "python",
   "name": "python3"
  },
  "language_info": {
   "codemirror_mode": {
    "name": "ipython",
    "version": 3
   },
   "file_extension": ".py",
   "mimetype": "text/x-python",
   "name": "python",
   "nbconvert_exporter": "python",
   "pygments_lexer": "ipython3",
   "version": "3.6.3"
  }
 },
 "nbformat": 4,
 "nbformat_minor": 2
}
