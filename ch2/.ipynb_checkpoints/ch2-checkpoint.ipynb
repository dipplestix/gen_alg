{
 "cells": [
  {
   "cell_type": "code",
   "execution_count": 8,
   "metadata": {},
   "outputs": [],
   "source": [
    "#The goal of this exercise it to maximize the sum of a list where the gene_set is [0, 1]\n",
    "#The optimal list will therefore be all 1s"
   ]
  },
  {
   "cell_type": "code",
   "execution_count": 9,
   "metadata": {},
   "outputs": [],
   "source": [
    "import genetic\n",
    "import datetime\n",
    "import pandas as pd\n",
    "import numpy as np"
   ]
  },
  {
   "cell_type": "code",
   "execution_count": 10,
   "metadata": {},
   "outputs": [],
   "source": [
    "def get_fitness(genes):\n",
    "    return sum(genes)\n",
    "\n",
    "def display(chrom, start_time):\n",
    "    print(f'{chrom.fitness}\\t{len(chrom.genes)}\\t{datetime.datetime.now()-start_time}')\n",
    "    \n",
    "gene_set = [0, 1]"
   ]
  },
  {
   "cell_type": "code",
   "execution_count": 11,
   "metadata": {},
   "outputs": [],
   "source": [
    "n = 4000\n",
    "one_max = genetic.Genetic(gene_set, get_fitness, display, n)\n",
    "best = one_max.solve(display_on=False)"
   ]
  },
  {
   "cell_type": "code",
   "execution_count": 13,
   "metadata": {},
   "outputs": [
    {
     "name": "stdout",
     "output_type": "stream",
     "text": [
      "0\n",
      "10\n",
      "20\n",
      "30\n",
      "40\n",
      "50\n",
      "60\n",
      "70\n",
      "80\n",
      "90\n",
      "1.6422139000000002\n",
      "0.5661048178989735\n"
     ]
    }
   ],
   "source": [
    "#Benchmark\n",
    "times = []\n",
    "for i in range(100):\n",
    "    if i%10 == 0:\n",
    "        print(i)\n",
    "    one_max = genetic.Genetic(gene_set, get_fitness, display, n)\n",
    "    best = one_max.solve(display_on=False)\n",
    "    times.append((datetime.datetime.now()-one_max.start_time).total_seconds())\n",
    "print(np.mean(times))\n",
    "print(np.std(times))"
   ]
  },
  {
   "cell_type": "code",
   "execution_count": null,
   "metadata": {},
   "outputs": [],
   "source": []
  }
 ],
 "metadata": {
  "kernelspec": {
   "display_name": "Python 3",
   "language": "python",
   "name": "python3"
  },
  "language_info": {
   "codemirror_mode": {
    "name": "ipython",
    "version": 3
   },
   "file_extension": ".py",
   "mimetype": "text/x-python",
   "name": "python",
   "nbconvert_exporter": "python",
   "pygments_lexer": "ipython3",
   "version": "3.7.3"
  }
 },
 "nbformat": 4,
 "nbformat_minor": 2
}
